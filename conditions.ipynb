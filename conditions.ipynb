{
 "cells": [
  {
   "cell_type": "code",
   "execution_count": 2,
   "metadata": {},
   "outputs": [
    {
     "name": "stdout",
     "output_type": "stream",
     "text": [
      "A\n",
      "B\n"
     ]
    }
   ],
   "source": [
    "marks = int(input(\"Enter your marks: \"))\n",
    "if marks>=90:\n",
    "    print(\"A+\")\n",
    "if marks>=75:\n",
    "    print(\"A\")\n",
    "if marks>= 60:\n",
    "    print(\"B\")\n",
    "if marks<60:\n",
    "    print(\"Fail\")\n",
    "    "
   ]
  },
  {
   "cell_type": "code",
   "execution_count": null,
   "metadata": {},
   "outputs": [
    {
     "name": "stdout",
     "output_type": "stream",
     "text": [
      "A\n"
     ]
    }
   ],
   "source": [
    "marks = int(input(\"Enter your marks: \"))\n",
    "if marks>=90:\n",
    "    print(\"A+\")\n",
    "elif marks>=75:\n",
    "    print(\"A\")\n",
    "elif marks>= 60:\n",
    "    print(\"B\")\n",
    "elif marks<60:\n",
    "    print(\"Fail\")\n",
    "else:\n",
    "    print(\"Invalid marks\")"
   ]
  },
  {
   "cell_type": "markdown",
   "metadata": {},
   "source": [
    "- to check whether a number is positive or not.\n",
    "- to check whether a numbeer if even or odd.\n",
    "- to check whether the two line segments are equal or not.\n",
    "- to check whether a triangle is equilateral, isosceles, or scalene. Print the message accordingly.\n",
    "- to check whether a character entered by user is a vowel or not.\n",
    "- take a basic salary of an employee from user where TDA is 10% and HRA is 5%. Calculate the net salary of an Employee.\n",
    "- Calculate the area of a circle.\n",
    "- to check whether a number is a prime number or not.\n",
    "- to check whether a number is pallindrome number or not.\n",
    "- to check whether a number is an armstrong number or not."
   ]
  },
  {
   "cell_type": "code",
   "execution_count": null,
   "metadata": {},
   "outputs": [
    {
     "name": "stdout",
     "output_type": "stream",
     "text": [
      "9  is a positive number\n"
     ]
    }
   ],
   "source": [
    "# to check whether a number is positive or a negative number.\n",
    "num = int(input(\"Enter a number: \"))\n",
    "if num > 0:\n",
    "    print(num , \" is a positive number\")\n",
    "elif num < 0:\n",
    "    print(num , \" is a negative number\")\n",
    "else:\n",
    "    print(num, \" is a neutral number\")"
   ]
  },
  {
   "cell_type": "code",
   "execution_count": 10,
   "metadata": {},
   "outputs": [
    {
     "name": "stdout",
     "output_type": "stream",
     "text": [
      "7 is a positive number\n"
     ]
    }
   ],
   "source": [
    "# to check whether a number is positive or not.\n",
    "num = int(input(\"Enter a number: \"))\n",
    "if num > 0:\n",
    "    print(num , \"is a positive number\")\n",
    "else:\n",
    "    print(num , \"is not a positive number\")"
   ]
  },
  {
   "cell_type": "code",
   "execution_count": 12,
   "metadata": {},
   "outputs": [
    {
     "name": "stdout",
     "output_type": "stream",
     "text": [
      "5 is an odd number\n"
     ]
    }
   ],
   "source": [
    "#to check whether a numbeer if even or odd.\n",
    "\n",
    "num = int(input(\"Enter a number: \"))\n",
    "if num%2 == 0:\n",
    "    print(num , \"is an even number\")\n",
    "else:\n",
    "    print(num , \"is an odd number\")"
   ]
  },
  {
   "cell_type": "code",
   "execution_count": 20,
   "metadata": {},
   "outputs": [
    {
     "name": "stdout",
     "output_type": "stream",
     "text": [
      "This is not a Triangle.\n"
     ]
    }
   ],
   "source": [
    "# to check whether a triangle is equilateral, isosceles, or scalene. Print the message accordingly.\n",
    "\n",
    "A = int(input(\"Enter the first side of the triangle: \"))\n",
    "B = int(input(\"Enter the second side of the triangle: \"))\n",
    "C = int(input(\"Enter the third side of the triangle: \"))\n",
    "\n",
    "if A+B <= C or A+C <= B or B+C <= A:\n",
    "    print (\"This is not a Triangle.\")\n",
    "elif A==B and B==C:\n",
    "    print(\"Equilatral Triangle\")\n",
    "elif A==B or B==C:\n",
    "    print(\"Isosceles Triangle\")\n",
    "else:\n",
    "    print(\"Scalene Triangle\")"
   ]
  },
  {
   "cell_type": "code",
   "execution_count": 3,
   "metadata": {},
   "outputs": [
    {
     "name": "stdout",
     "output_type": "stream",
     "text": [
      "y is not a vowel\n"
     ]
    }
   ],
   "source": [
    "# to check whether a character entered by user is a vowel or not.\n",
    "\n",
    "ch = input(\"Enter a character: \")\n",
    "if ch=='A' or ch=='E' or ch=='I' or ch=='O' or ch=='U' or ch=='a' or ch=='e' or ch=='i' or ch=='o' or ch=='u':\n",
    "    print(ch, 'is a vowel')\n",
    "else:\n",
    "    print(ch, \"is not a vowel\")"
   ]
  },
  {
   "cell_type": "code",
   "execution_count": 5,
   "metadata": {},
   "outputs": [
    {
     "name": "stdout",
     "output_type": "stream",
     "text": [
      "6900.0\n"
     ]
    }
   ],
   "source": [
    "basic_salary = int(input(\"Enter the basic salary: \"))\n",
    "tda= basic_salary-(0.10*basic_salary)\n",
    "hra= basic_salary+(0.05*basic_salary) \n",
    "net_salary = basic_salary + hra - tda\n",
    "print(net_salary)"
   ]
  },
  {
   "cell_type": "code",
   "execution_count": 6,
   "metadata": {},
   "outputs": [
    {
     "name": "stdout",
     "output_type": "stream",
     "text": [
      "28.259999999999998\n"
     ]
    }
   ],
   "source": [
    "radius = int(input(\"Enter the radius of the circle: \"))\n",
    "pie = 3.14\n",
    "circle_area = pie*radius*radius\n",
    "print(circle_area)"
   ]
  },
  {
   "cell_type": "code",
   "execution_count": 13,
   "metadata": {},
   "outputs": [
    {
     "name": "stdout",
     "output_type": "stream",
     "text": [
      "55\n",
      "55 is a pallindrome number\n"
     ]
    }
   ],
   "source": [
    "# to check whether a number is pallindrome number or not.\n",
    "\n",
    "num = int(input(\"Enter a number: \"))\n",
    "temp = num\n",
    "rev = 0\n",
    "while temp > 0:\n",
    "    d = temp % 10\n",
    "    rev = rev * 10 + d\n",
    "    temp = temp // 10\n",
    "print(rev)\n",
    "if rev == num:\n",
    "    print(num, \"is a pallindrome number\")\n",
    "else:\n",
    "    print(num, \"is not a pallindrome number\")"
   ]
  },
  {
   "cell_type": "code",
   "execution_count": 8,
   "metadata": {},
   "outputs": [
    {
     "name": "stdout",
     "output_type": "stream",
     "text": [
      "Registered Successfully\n"
     ]
    }
   ],
   "source": [
    "username = input(\"Enter your username: \")\n",
    "email = input(\"Enter your email: \")\n",
    "password = input(\"Enter your password: \")\n",
    "cpass = input(\"Enter your confirm password: \")\n",
    "if len(username) > 5 and len(username) <= 15:\n",
    "    if '@' in email and '.' in email:\n",
    "        if len(password) >=5 and len(password) <=15:\n",
    "            if password == cpass:\n",
    "                print(\"Registered Successfully\")\n",
    "            else:\n",
    "                print(\"Password does not match\")\n",
    "        else:\n",
    "            print(\"Invalid paassword\")\n",
    "    else:\n",
    "        print(\"Invalid email\")\n",
    "else:\n",
    "    print(\"Invalid username\")"
   ]
  }
 ],
 "metadata": {
  "kernelspec": {
   "display_name": "base",
   "language": "python",
   "name": "python3"
  },
  "language_info": {
   "codemirror_mode": {
    "name": "ipython",
    "version": 3
   },
   "file_extension": ".py",
   "mimetype": "text/x-python",
   "name": "python",
   "nbconvert_exporter": "python",
   "pygments_lexer": "ipython3",
   "version": "3.12.9"
  }
 },
 "nbformat": 4,
 "nbformat_minor": 2
}
