{
 "cells": [
  {
   "cell_type": "markdown",
   "metadata": {},
   "source": [
    "- different ways to create dictionary\n",
    "- to access key and values\n",
    "- to add new pair\n",
    "- loops in dictionary\n",
    "- nested dictionary"
   ]
  },
  {
   "cell_type": "code",
   "execution_count": 10,
   "metadata": {},
   "outputs": [
    {
     "name": "stdout",
     "output_type": "stream",
     "text": [
      "{'name': 'John', 'age': 25, 'course': 'Pyhton', 'marks': 80}\n"
     ]
    }
   ],
   "source": [
    "student = {\n",
    "    \"name\" : \"John\" ,\n",
    "    \"age\" : 25 ,\n",
    "    \"course\" : \"Pyhton\" ,\n",
    "    \"marks\" : 80\n",
    "}\n",
    "print(student)"
   ]
  },
  {
   "cell_type": "code",
   "execution_count": 11,
   "metadata": {},
   "outputs": [
    {
     "name": "stdout",
     "output_type": "stream",
     "text": [
      "{'name': 'john', 'age': 25, 'course': 'python', 'marks': 80}\n"
     ]
    }
   ],
   "source": [
    "info = dict(name ='john', age = 25, course = 'python', marks = 80)\n",
    "print(info)"
   ]
  },
  {
   "cell_type": "markdown",
   "metadata": {},
   "source": [
    "##### user input in dictionary"
   ]
  },
  {
   "cell_type": "code",
   "execution_count": 12,
   "metadata": {},
   "outputs": [
    {
     "name": "stdout",
     "output_type": "stream",
     "text": [
      "{'name': 'John', 'age': 25, 'course': 'python', 'marks': 80}\n"
     ]
    }
   ],
   "source": [
    "student = {\n",
    "    \"name\" : \"John\" ,\n",
    "    \"age\" : 25 ,\n",
    "    \"course\" : input(\"Enter your course: \") ,\n",
    "    \"marks\" : 80\n",
    "}\n",
    "print(student)"
   ]
  },
  {
   "cell_type": "code",
   "execution_count": 13,
   "metadata": {},
   "outputs": [
    {
     "name": "stdout",
     "output_type": "stream",
     "text": [
      "{'name': 'john', 'age': 25, 'course': 'java', 'marks': 80}\n"
     ]
    }
   ],
   "source": [
    "info = dict(name ='john', age = 25, course = input(\"Enter your course: \"), marks = 80)\n",
    "print(info)"
   ]
  },
  {
   "cell_type": "code",
   "execution_count": 14,
   "metadata": {},
   "outputs": [
    {
     "name": "stdout",
     "output_type": "stream",
     "text": [
      "{'lucknow': [25, 35, 28], 'delhi': [30, 40, 35], 'chennai': [35, 40, 30]}\n"
     ]
    }
   ],
   "source": [
    "temp = {\n",
    "    'lucknow' : [25,35,28],\n",
    "    'delhi' : [30,40,35],\n",
    "    'chennai' : [35,40,30]\n",
    "    }\n",
    "print(temp)"
   ]
  },
  {
   "cell_type": "code",
   "execution_count": 15,
   "metadata": {},
   "outputs": [
    {
     "name": "stdout",
     "output_type": "stream",
     "text": [
      "John\n"
     ]
    }
   ],
   "source": [
    "#1st method to  access the value\n",
    "print(student['name'])"
   ]
  },
  {
   "cell_type": "code",
   "execution_count": 16,
   "metadata": {},
   "outputs": [
    {
     "data": {
      "text/plain": [
       "'John'"
      ]
     },
     "execution_count": 16,
     "metadata": {},
     "output_type": "execute_result"
    }
   ],
   "source": [
    "#2nd method\n",
    "student.get(\"name\")"
   ]
  },
  {
   "cell_type": "code",
   "execution_count": 17,
   "metadata": {},
   "outputs": [
    {
     "name": "stdout",
     "output_type": "stream",
     "text": [
      "{'name': 'John', 'age': 25, 'course': 'python', 'marks': 80, 'city': 'Lucknow'}\n"
     ]
    }
   ],
   "source": [
    "student[\"city\"] = \"Lucknow\"\n",
    "print(student)"
   ]
  },
  {
   "cell_type": "code",
   "execution_count": 18,
   "metadata": {},
   "outputs": [
    {
     "data": {
      "text/plain": [
       "dict_keys(['name', 'age', 'course', 'marks', 'city'])"
      ]
     },
     "execution_count": 18,
     "metadata": {},
     "output_type": "execute_result"
    }
   ],
   "source": [
    "student.keys()"
   ]
  },
  {
   "cell_type": "code",
   "execution_count": 19,
   "metadata": {},
   "outputs": [
    {
     "data": {
      "text/plain": [
       "dict_values(['John', 25, 'python', 80, 'Lucknow'])"
      ]
     },
     "execution_count": 19,
     "metadata": {},
     "output_type": "execute_result"
    }
   ],
   "source": [
    "student.values()"
   ]
  },
  {
   "cell_type": "code",
   "execution_count": 20,
   "metadata": {},
   "outputs": [
    {
     "data": {
      "text/plain": [
       "dict_items([('name', 'John'), ('age', 25), ('course', 'python'), ('marks', 80), ('city', 'Lucknow')])"
      ]
     },
     "execution_count": 20,
     "metadata": {},
     "output_type": "execute_result"
    }
   ],
   "source": [
    "student.items()"
   ]
  },
  {
   "cell_type": "code",
   "execution_count": 21,
   "metadata": {},
   "outputs": [
    {
     "name": "stdout",
     "output_type": "stream",
     "text": [
      "name\n",
      "age\n",
      "course\n",
      "marks\n",
      "city\n"
     ]
    }
   ],
   "source": [
    "for k in student:\n",
    "    print(k)"
   ]
  },
  {
   "cell_type": "code",
   "execution_count": 22,
   "metadata": {},
   "outputs": [
    {
     "name": "stdout",
     "output_type": "stream",
     "text": [
      "name : John\n",
      "age : 25\n",
      "course : python\n",
      "marks : 80\n",
      "city : Lucknow\n"
     ]
    }
   ],
   "source": [
    "for k,v in student.items():\n",
    "    print(f'{k} : {v}')"
   ]
  },
  {
   "cell_type": "code",
   "execution_count": 23,
   "metadata": {},
   "outputs": [
    {
     "name": "stdout",
     "output_type": "stream",
     "text": [
      "Sum:  50\n",
      "sum of 20 and 30 is : 50\n",
      "sum of 20 and 30 is : 50\n"
     ]
    }
   ],
   "source": [
    "a = 20\n",
    "b = 30\n",
    "s = a+b\n",
    "print(\"Sum: \", s)\n",
    "print('sum of', a, 'and', b, 'is :', s)\n",
    "print(f'sum of {a} and {b} is : {s}')"
   ]
  },
  {
   "cell_type": "code",
   "execution_count": 24,
   "metadata": {},
   "outputs": [
    {
     "name": "stdout",
     "output_type": "stream",
     "text": [
      "{'emp001': {'name': 'John', 'age': 25, 'dept': 'HR', 'salary': 25000}, 'emp002': {'name': 'Smith', 'age': 30, 'dept': 'IT', 'salary': 30000}, 'emp003': {'name': 'Peter', 'age': 35, 'dept': 'Admin', 'salary': 35000}}\n"
     ]
    }
   ],
   "source": [
    "company = {\n",
    "    'emp001' : {\n",
    "        'name' : 'John',\n",
    "        'age' : 25,\n",
    "        'dept': 'HR',\n",
    "        'salary' : 25000\n",
    "    },\n",
    "    'emp002' : {\n",
    "        'name' : 'Smith',\n",
    "        'age' : 30,\n",
    "        'dept': 'IT',\n",
    "        'salary' : 30000\n",
    "    },\n",
    "    'emp003' : {\n",
    "        'name' : 'Peter',\n",
    "        'age' : 35,\n",
    "        'dept': 'Admin',\n",
    "        'salary' : 35000\n",
    "    }\n",
    "}\n",
    "print(company)"
   ]
  },
  {
   "cell_type": "code",
   "execution_count": 25,
   "metadata": {},
   "outputs": [],
   "source": [
    "from pprint import pprint"
   ]
  },
  {
   "cell_type": "code",
   "execution_count": 26,
   "metadata": {},
   "outputs": [
    {
     "name": "stdout",
     "output_type": "stream",
     "text": [
      "{'emp001': {'age': 25, 'dept': 'HR', 'name': 'John', 'salary': 25000},\n",
      " 'emp002': {'age': 30, 'dept': 'IT', 'name': 'Smith', 'salary': 30000},\n",
      " 'emp003': {'age': 35, 'dept': 'Admin', 'name': 'Peter', 'salary': 35000}}\n"
     ]
    }
   ],
   "source": [
    "pprint(company)"
   ]
  },
  {
   "cell_type": "code",
   "execution_count": 27,
   "metadata": {},
   "outputs": [
    {
     "name": "stdout",
     "output_type": "stream",
     "text": [
      "30000\n"
     ]
    }
   ],
   "source": [
    "print(company['emp002']['salary'])"
   ]
  },
  {
   "cell_type": "code",
   "execution_count": null,
   "metadata": {},
   "outputs": [],
   "source": []
  }
 ],
 "metadata": {
  "kernelspec": {
   "display_name": "base",
   "language": "python",
   "name": "python3"
  },
  "language_info": {
   "codemirror_mode": {
    "name": "ipython",
    "version": 3
   },
   "file_extension": ".py",
   "mimetype": "text/x-python",
   "name": "python",
   "nbconvert_exporter": "python",
   "pygments_lexer": "ipython3",
   "version": "3.12.9"
  }
 },
 "nbformat": 4,
 "nbformat_minor": 2
}
