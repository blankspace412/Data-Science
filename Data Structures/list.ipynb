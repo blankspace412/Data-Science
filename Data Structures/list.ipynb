{
 "cells": [
  {
   "cell_type": "code",
   "execution_count": 4,
   "metadata": {},
   "outputs": [
    {
     "name": "stdout",
     "output_type": "stream",
     "text": [
      "['drive', 'google', 'watsapp', 'insta', 'facebook', 'ola', 'swiggy', 'zoom']\n",
      "facebook\n",
      "facebook\n"
     ]
    }
   ],
   "source": [
    "apps = [\"drive\" , \"google\" , \"watsapp\" , \"insta\" , \"facebook\" , \"ola\" ,  \"swiggy\" , \"zoom\"]\n",
    "print(apps)\n",
    "print(apps[4])\n",
    "print(apps[-4])"
   ]
  },
  {
   "cell_type": "code",
   "execution_count": 8,
   "metadata": {},
   "outputs": [
    {
     "name": "stdout",
     "output_type": "stream",
     "text": [
      "['google', 'watsapp', 'insta', 'facebook', 'ola']\n",
      "['google', 'insta', 'ola', 'zoom']\n",
      "['watsapp', 'insta', 'facebook', 'ola', 'swiggy', 'zoom']\n",
      "['drive', 'google', 'watsapp', 'insta', 'facebook']\n",
      "['drive', 'google', 'watsapp', 'insta', 'facebook', 'ola', 'swiggy', 'zoom']\n"
     ]
    }
   ],
   "source": [
    "print(apps[1:6])\n",
    "print(apps[1:9:2])\n",
    "print(apps[2:])\n",
    "print(apps[:5])\n",
    "print(apps[:])"
   ]
  },
  {
   "cell_type": "markdown",
   "metadata": {},
   "source": [
    "#### LIST METHODS\n",
    "- append - to add an element at the end of the list\n",
    "- insert - to add an element at any specific position in the list\n",
    "- pop - to delete an item using the index position of the element\n",
    "- remove - to delete an item using its name\n",
    "- copy - to make a copy of the list\n",
    "- sort - to sort the items in any particular order\n",
    "- extend - to combine two lists in one list\n",
    "- reverse - to reverse the order of the list\n",
    "- clear - to  remove all the items of the list but not the list"
   ]
  },
  {
   "cell_type": "code",
   "execution_count": 9,
   "metadata": {},
   "outputs": [
    {
     "name": "stdout",
     "output_type": "stream",
     "text": [
      "['drive', 'google', 'watsapp', 'insta', 'facebook', 'ola', 'swiggy', 'zoom', 'Snapchat']\n"
     ]
    }
   ],
   "source": [
    "apps.append(\"Snapchat\")\n",
    "print(apps)"
   ]
  },
  {
   "cell_type": "code",
   "execution_count": 10,
   "metadata": {},
   "outputs": [
    {
     "name": "stdout",
     "output_type": "stream",
     "text": [
      "['drive', 'google', 'watsapp', 'tinder', 'insta', 'facebook', 'ola', 'swiggy', 'zoom', 'Snapchat']\n"
     ]
    }
   ],
   "source": [
    "apps.insert(3,\"tinder\")\n",
    "print(apps)"
   ]
  },
  {
   "cell_type": "code",
   "execution_count": 11,
   "metadata": {},
   "outputs": [
    {
     "name": "stdout",
     "output_type": "stream",
     "text": [
      "['drive', 'google', 'watsapp', 'tinder', 'insta', 'ola', 'swiggy', 'zoom', 'Snapchat']\n"
     ]
    }
   ],
   "source": [
    "apps.pop(5)\n",
    "print(apps)"
   ]
  },
  {
   "cell_type": "code",
   "execution_count": 13,
   "metadata": {},
   "outputs": [
    {
     "name": "stdout",
     "output_type": "stream",
     "text": [
      "['drive', 'google', 'watsapp', 'tinder', 'insta', 'swiggy', 'zoom', 'Snapchat']\n"
     ]
    }
   ],
   "source": [
    "apps.remove(\"ola\")\n",
    "print(apps)"
   ]
  },
  {
   "cell_type": "code",
   "execution_count": 14,
   "metadata": {},
   "outputs": [
    {
     "name": "stdout",
     "output_type": "stream",
     "text": [
      "['drive', 'google', 'watsapp', 'tinder', 'insta', 'swiggy', 'zoom', 'Snapchat']\n"
     ]
    }
   ],
   "source": [
    "x = apps.copy()\n",
    "print(x)"
   ]
  },
  {
   "cell_type": "code",
   "execution_count": 15,
   "metadata": {},
   "outputs": [
    {
     "name": "stdout",
     "output_type": "stream",
     "text": [
      "[]\n"
     ]
    }
   ],
   "source": [
    "x.clear()\n",
    "print(x)"
   ]
  },
  {
   "cell_type": "code",
   "execution_count": 24,
   "metadata": {},
   "outputs": [
    {
     "ename": "TypeError",
     "evalue": "'<' not supported between instances of 'int' and 'str'",
     "output_type": "error",
     "traceback": [
      "\u001b[1;31m---------------------------------------------------------------------------\u001b[0m",
      "\u001b[1;31mTypeError\u001b[0m                                 Traceback (most recent call last)",
      "Cell \u001b[1;32mIn[24], line 1\u001b[0m\n\u001b[1;32m----> 1\u001b[0m \u001b[43mapps\u001b[49m\u001b[38;5;241;43m.\u001b[39;49m\u001b[43msort\u001b[49m\u001b[43m(\u001b[49m\u001b[43m)\u001b[49m\n\u001b[0;32m      2\u001b[0m \u001b[38;5;28mprint\u001b[39m(apps)\n",
      "\u001b[1;31mTypeError\u001b[0m: '<' not supported between instances of 'int' and 'str'"
     ]
    }
   ],
   "source": [
    "apps.sort()\n",
    "print(apps)"
   ]
  },
  {
   "cell_type": "code",
   "execution_count": 18,
   "metadata": {},
   "outputs": [
    {
     "name": "stdout",
     "output_type": "stream",
     "text": [
      "['zoom', 'watsapp', 'tinder', 'swiggy', 'insta', 'google', 'drive', 'Snapchat']\n"
     ]
    }
   ],
   "source": [
    "apps.reverse()\n",
    "print(apps)"
   ]
  },
  {
   "cell_type": "code",
   "execution_count": 22,
   "metadata": {},
   "outputs": [
    {
     "name": "stdout",
     "output_type": "stream",
     "text": [
      "['zoom', 'watsapp', 'tinder', 'swiggy', 'insta', 'google', 'drive', 'Snapchat', 2, 5, 2, 5, 7, 2, 5, 2, 5, 7, 2, 5, 2, 5, 7, 2, 5, 2, 5, 7]\n"
     ]
    }
   ],
   "source": [
    "apps2 = [2, 5, 2, 5, 7]\n",
    "apps.extend(apps2)\n",
    "print(apps)"
   ]
  },
  {
   "cell_type": "code",
   "execution_count": 49,
   "metadata": {},
   "outputs": [
    {
     "name": "stdout",
     "output_type": "stream",
     "text": [
      "['zoom', 'watsapp', 'tinder', 'swiggy', 'insta', 'google', 'drive', 'Snapchat']\n"
     ]
    }
   ],
   "source": [
    "print(apps)"
   ]
  },
  {
   "cell_type": "code",
   "execution_count": null,
   "metadata": {},
   "outputs": [],
   "source": []
  }
 ],
 "metadata": {
  "kernelspec": {
   "display_name": "base",
   "language": "python",
   "name": "python3"
  },
  "language_info": {
   "codemirror_mode": {
    "name": "ipython",
    "version": 3
   },
   "file_extension": ".py",
   "mimetype": "text/x-python",
   "name": "python",
   "nbconvert_exporter": "python",
   "pygments_lexer": "ipython3",
   "version": "3.12.9"
  }
 },
 "nbformat": 4,
 "nbformat_minor": 2
}
